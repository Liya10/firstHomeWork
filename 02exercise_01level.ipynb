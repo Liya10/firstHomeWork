{
 "cells": [
  {
   "cell_type": "code",
   "execution_count": 15,
   "metadata": {},
   "outputs": [
    {
     "name": "stdout",
     "output_type": "stream",
     "text": [
      "Input first number 6\n",
      "Input second number 2\n",
      "This number is even.\n",
      "First number divides evenly by second number.\n"
     ]
    }
   ],
   "source": [
    "num=int(input(\"Input first number \"))\n",
    "num2=int(input(\"Input second number \"))\n",
    "if (num%4)==0: print(str(num)+\" is a multiple of 4.\")\n",
    "elif (num%2)==0 :print(str(num)+\" is even.\")\n",
    "else : print(str(num)+\" is odd.\")\n",
    "    \n",
    "if num%num2: print(str(num)+\" doesn't divide evenly by \"+str(num2)+\".\")  \n",
    "else: print(str(num)+\" divides evenly by \"+str(num2)"
   ]
  },
  {
   "cell_type": "code",
   "execution_count": null,
   "metadata": {},
   "outputs": [],
   "source": []
  }
 ],
 "metadata": {
  "kernelspec": {
   "display_name": "Python 3",
   "language": "python",
   "name": "python3"
  },
  "language_info": {
   "codemirror_mode": {
    "name": "ipython",
    "version": 3
   },
   "file_extension": ".py",
   "mimetype": "text/x-python",
   "name": "python",
   "nbconvert_exporter": "python",
   "pygments_lexer": "ipython3",
   "version": "3.7.0"
  }
 },
 "nbformat": 4,
 "nbformat_minor": 2
}
