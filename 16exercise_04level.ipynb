{
 "cells": [
  {
   "cell_type": "code",
   "execution_count": null,
   "metadata": {},
   "outputs": [
    {
     "name": "stdout",
     "output_type": "stream",
     "text": [
      "Welcome, this program generate new password.\n",
      "Input password length:16\n",
      "\n",
      "Your password: 9G3B02ipo1Q3*+g3\n",
      "Are you satisfied with the password? Yes(0), No(1): 1\n",
      "\n",
      "Your password: @TIWNgsj7+It34mf\n",
      "Are you satisfied with the password? Yes(0), No(1): 1\n",
      "\n",
      "Your password: m6dty6@e1PpoSre*\n",
      "Are you satisfied with the password? Yes(0), No(1): 1\n",
      "\n",
      "Your password: x70E8e4#r*3g2TJ7\n",
      "Are you satisfied with the password? Yes(0), No(1): 1\n",
      "\n",
      "Your password: azE11J9s057+tb+8\n",
      "Are you satisfied with the password? Yes(0), No(1): 1\n",
      "\n",
      "Your password: 61z09sfxb89#+U8j\n"
     ]
    }
   ],
   "source": [
    "import random\n",
    "print(\"Welcome, this program generate new password.\")\n",
    "size=int(input(\"Input password length:\"))\n",
    "\n",
    "while size<8:\n",
    "    size=int(input(\"The size password is too short. Minimum password size of 8. Re-enter password length: \"))\n",
    "state=1\n",
    "while state:\n",
    "  print(\"\\nYour password: \"+generationPassword(size))\n",
    "  state=int(input(\"Are you satisfied with the password? Yes(0), No(1): \"))"
   ]
  },
  {
   "cell_type": "code",
   "execution_count": 42,
   "metadata": {},
   "outputs": [],
   "source": [
    "def generationPassword(size=8):\n",
    "    symbols=int(size/8)   #1\n",
    "    numbers=int((size-symbols)/random.randint(2,4)) # 3 2 1\n",
    "    uppercaseLetter=int((size-symbols-numbers)/random.randint(2,4)) # 2 1 1  2 1 1  3 2 1\n",
    "    lowercaseLetter=int(size-symbols-numbers-uppercaseLetter)  #2 3 3 2 3 3 1\n",
    "    password=''\n",
    "    for i in range(symbols):\n",
    "        password+=str(random.choice('+$#@&*'))\n",
    "    for i in range(numbers):\n",
    "        password+=str(random.choice('0123456789'))\n",
    "    for i in range(uppercaseLetter):\n",
    "        password+=str(random.choice('QWERTYUIOPLKJHGFDSAZXCVBNM'))\n",
    "    for i in range(lowercaseLetter):\n",
    "        password+=str(random.choice('qwertyuioplkjhgfdsazxcvbnm'))\n",
    "    L=list(password)\n",
    "    random.shuffle(L)\n",
    "    return ''.join(L)"
   ]
  },
  {
   "cell_type": "code",
   "execution_count": null,
   "metadata": {},
   "outputs": [],
   "source": []
  }
 ],
 "metadata": {
  "kernelspec": {
   "display_name": "Python 3",
   "language": "python",
   "name": "python3"
  },
  "language_info": {
   "codemirror_mode": {
    "name": "ipython",
    "version": 3
   },
   "file_extension": ".py",
   "mimetype": "text/x-python",
   "name": "python",
   "nbconvert_exporter": "python",
   "pygments_lexer": "ipython3",
   "version": "3.7.0"
  }
 },
 "nbformat": 4,
 "nbformat_minor": 2
}
