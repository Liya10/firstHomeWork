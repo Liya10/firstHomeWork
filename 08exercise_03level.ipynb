{
 "cells": [
  {
   "cell_type": "code",
   "execution_count": null,
   "metadata": {},
   "outputs": [
    {
     "name": "stdout",
     "output_type": "stream",
     "text": [
      "First player, do you want to choose rock, paper, scissors: rock\n",
      "Second player, do you want to chose rock, paper, scissors: rock\n",
      "Draw!\n",
      "Do you want to play again? Yes(1), No(0): 1\n",
      "First player, do you want to choose rock, paper, scissors: rock\n",
      "Second player, do you want to chose rock, paper, scissors: paper\n",
      "First player win!\n"
     ]
    }
   ],
   "source": [
    "state=1\n",
    "while state:\n",
    "    player1=str(input(\"First player, do you want to choose rock, paper, scissors: \"))\n",
    "    player2=str(input(\"Second player, do you want to chose rock, paper, scissors: \"))\n",
    "    game(player1,player2)\n",
    "    state=int(input(\"Do you want to play again? Yes(1), No(0): \"))\n",
    "   #rock=0 paper=1 scissors=2\n",
    "#rp=-1 rs=-2w ps=-1\n",
    "#pr=1w rs=2 sp=1w\n",
    "\n",
    "\n",
    "\n"
   ]
  },
  {
   "cell_type": "code",
   "execution_count": 26,
   "metadata": {},
   "outputs": [],
   "source": [
    "game_dict={'rock':0, 'paper':1, 'scissors':2}\n",
    "def game(player1, player2):\n",
    " st=int(game_dict.get(player1))-int(game_dict.get(player2))\n",
    " if(st==0): print(\"Draw!\")\n",
    " elif (st==1): print(\"First player win!\")\n",
    " elif (st==-1): print(\"First player win!\")\n",
    " else : print(\"Second Player win!\")"
   ]
  },
  {
   "cell_type": "code",
   "execution_count": null,
   "metadata": {},
   "outputs": [],
   "source": []
  }
 ],
 "metadata": {
  "kernelspec": {
   "display_name": "Python 3",
   "language": "python",
   "name": "python3"
  },
  "language_info": {
   "codemirror_mode": {
    "name": "ipython",
    "version": 3
   },
   "file_extension": ".py",
   "mimetype": "text/x-python",
   "name": "python",
   "nbconvert_exporter": "python",
   "pygments_lexer": "ipython3",
   "version": "3.7.0"
  }
 },
 "nbformat": 4,
 "nbformat_minor": 2
}
