{
 "cells": [
  {
   "cell_type": "code",
   "execution_count": 72,
   "metadata": {},
   "outputs": [
    {
     "name": "stdout",
     "output_type": "stream",
     "text": [
      "Hello, welcome to the game!\n",
      "In this game you have to guess the numbers from 1 to 9.\n",
      "\n",
      "Input number 9\n",
      "You didn't guess. Your number is too hight.\n",
      "\n",
      "Input number 7\n",
      "You didn't guess. Your number is too hight.\n",
      "\n",
      "Input number 6\n",
      "You didn't guess. Your number is too low.\n",
      "\n",
      "Input number 8\n",
      "You didn't guess. Your number is too hight.\n",
      "\n",
      "Input number 6\n",
      "You didn't guess. Your number is too hight.\n",
      "\n",
      "Input number 4\n",
      "You didn't guess. Your number is too hight.\n",
      "\n",
      "Input number 3\n",
      "You didn't guess. Your number is too low.\n",
      "\n",
      "Input number 6\n",
      "Congratulations! You guessed it.\n",
      "\n",
      "Input number exit\n",
      "\n",
      "\n",
      "Total attempts: 8.\n",
      "You guessed times: 1.\n"
     ]
    }
   ],
   "source": [
    "import random\n",
    "print(\"Hello, welcome to the game!\")\n",
    "print(\"In this game you have to guess the numbers from 1 to 9.\")\n",
    "\n",
    "game()"
   ]
  },
  {
   "cell_type": "code",
   "execution_count": 71,
   "metadata": {},
   "outputs": [],
   "source": [
    "import random\n",
    "def game():\n",
    "   Try=0\n",
    "   guess=0\n",
    "   numberUser=input(\"\\nInput number \")\n",
    "   while numberUser!=\"exit\":\n",
    "     Try+=1\n",
    "     a=random.randint(1,9)\n",
    "     if int(numberUser)==a: \n",
    "        print(\"Congratulations! You guessed it.\") \n",
    "        guess+=1\n",
    "     elif (int(numberUser)<a): print(\"You didn't guess. Your number is too low.\")\n",
    "     else: print(\"You didn't guess. Your number is too hight.\")\n",
    "     numberUser=input(\"\\nInput number \")   \n",
    "   print(\"\\n\\nTotal attempts: \"+str(Try)+\".\")\n",
    "   print(\"You guessed times: \"+str(guess)+\".\")"
   ]
  },
  {
   "cell_type": "code",
   "execution_count": null,
   "metadata": {},
   "outputs": [],
   "source": []
  }
 ],
 "metadata": {
  "kernelspec": {
   "display_name": "Python 3",
   "language": "python",
   "name": "python3"
  },
  "language_info": {
   "codemirror_mode": {
    "name": "ipython",
    "version": 3
   },
   "file_extension": ".py",
   "mimetype": "text/x-python",
   "name": "python",
   "nbconvert_exporter": "python",
   "pygments_lexer": "ipython3",
   "version": "3.7.0"
  }
 },
 "nbformat": 4,
 "nbformat_minor": 2
}
